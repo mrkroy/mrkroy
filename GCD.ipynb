{
  "nbformat": 4,
  "nbformat_minor": 0,
  "metadata": {
    "colab": {
      "name": "GCD.ipynb",
      "provenance": [],
      "collapsed_sections": [],
      "authorship_tag": "ABX9TyPfLZ6087cqLL7Ia1aSiJiK",
      "include_colab_link": true
    },
    "kernelspec": {
      "name": "python3",
      "display_name": "Python 3"
    },
    "language_info": {
      "name": "python"
    }
  },
  "cells": [
    {
      "cell_type": "markdown",
      "metadata": {
        "id": "view-in-github",
        "colab_type": "text"
      },
      "source": [
        "<a href=\"https://colab.research.google.com/github/mrkroy/mrkroy/blob/main/GCD.ipynb\" target=\"_parent\"><img src=\"https://colab.research.google.com/assets/colab-badge.svg\" alt=\"Open In Colab\"/></a>"
      ]
    },
    {
      "cell_type": "code",
      "metadata": {
        "id": "WdTb4IyJRge7"
      },
      "source": [
        "def gcd(m,n):\n",
        "  fm=[]\n",
        "  for i in range (1,m+1):\n",
        "    if (m%i)==0:\n",
        "      fm.append(i)\n",
        "  fn=[]\n",
        "  for j in range(1,n+1):\n",
        "    if (n%j)==0:\n",
        "      fn.append(j)\n",
        "  fc=[]\n",
        "  for f in fm:\n",
        "    if f in fn:\n",
        "      fc.append(f)\n",
        "  return(fc[-1])"
      ],
      "execution_count": null,
      "outputs": []
    },
    {
      "cell_type": "code",
      "metadata": {
        "colab": {
          "base_uri": "https://localhost:8080/"
        },
        "id": "4pSqiBXYqpwX",
        "outputId": "abb1e430-98e7-4dca-9bbd-144e085f8897"
      },
      "source": [
        "gcd(18,11)"
      ],
      "execution_count": null,
      "outputs": [
        {
          "output_type": "execute_result",
          "data": {
            "text/plain": [
              "1"
            ]
          },
          "metadata": {
            "tags": []
          },
          "execution_count": 8
        }
      ]
    },
    {
      "cell_type": "code",
      "metadata": {
        "id": "OY1iuhPZ1bMG"
      },
      "source": [
        "def gcd_min(m,n):\n",
        "  \n",
        "  for i in range(1,min(m,n)+1):\n",
        "    if (m%i)==0 and (n%i)==0:\n",
        "      mrcf = i\n",
        "  return(mrcf)\n",
        "\n",
        "  "
      ],
      "execution_count": null,
      "outputs": []
    },
    {
      "cell_type": "code",
      "metadata": {
        "colab": {
          "base_uri": "https://localhost:8080/"
        },
        "id": "m6erh7a72xWt",
        "outputId": "65d5da63-7df7-453d-dbbf-cc25193582e9"
      },
      "source": [
        "gcd_min(13,12)"
      ],
      "execution_count": null,
      "outputs": [
        {
          "output_type": "execute_result",
          "data": {
            "text/plain": [
              "1"
            ]
          },
          "metadata": {
            "tags": []
          },
          "execution_count": 26
        }
      ]
    },
    {
      "cell_type": "code",
      "metadata": {
        "id": "wbm6SSaZ5WVX"
      },
      "source": [
        "def gcd_max(m,n):\n",
        "  i = min(m,n)\n",
        "  while (i>0):\n",
        "    if (m%i)==0 and (n%i)==0:\n",
        "      return(i)\n",
        "    else:\n",
        "      i=i-1\n",
        "  \n",
        "       \n"
      ],
      "execution_count": null,
      "outputs": []
    },
    {
      "cell_type": "code",
      "metadata": {
        "colab": {
          "base_uri": "https://localhost:8080/"
        },
        "id": "RKmwOZ8O6bBv",
        "outputId": "13b07c19-2b7f-492a-93bd-f55d00e90b31"
      },
      "source": [
        "gcd_max(6,12)"
      ],
      "execution_count": null,
      "outputs": [
        {
          "output_type": "execute_result",
          "data": {
            "text/plain": [
              "6"
            ]
          },
          "metadata": {
            "tags": []
          },
          "execution_count": 31
        }
      ]
    },
    {
      "cell_type": "code",
      "metadata": {
        "id": "5AfWaVJOFOqz"
      },
      "source": [
        "def euclid_gcd(m,n):\n",
        "  if m <n:\n",
        "    (m,n) = (n,m)\n",
        "  if (m%n)==0:\n",
        "    return (n)\n",
        "  else:\n",
        "    diff= m-n\n",
        "    return(gcd(n,diff))\n",
        "  \n"
      ],
      "execution_count": null,
      "outputs": []
    },
    {
      "cell_type": "code",
      "metadata": {
        "colab": {
          "base_uri": "https://localhost:8080/"
        },
        "id": "Lei7g7sgGzyx",
        "outputId": "df5f02f6-fbd0-4c20-b3ef-7ba09ccd92b8"
      },
      "source": [
        "euclid_gcd(45,15)"
      ],
      "execution_count": null,
      "outputs": [
        {
          "output_type": "execute_result",
          "data": {
            "text/plain": [
              "15"
            ]
          },
          "metadata": {
            "tags": []
          },
          "execution_count": 47
        }
      ]
    },
    {
      "cell_type": "code",
      "metadata": {
        "id": "f8ujZuyfKFpY"
      },
      "source": [
        "def euclid_gcd_while(m,n):\n",
        "  if m<n :\n",
        "    (m,n) =(n,m)\n",
        "  while (m%n) !=0 :\n",
        "    diff= m-n\n",
        "    (m,n) = (max(n,diff),min(n,diff))\n",
        "  return (n)\n"
      ],
      "execution_count": null,
      "outputs": []
    },
    {
      "cell_type": "code",
      "metadata": {
        "colab": {
          "base_uri": "https://localhost:8080/"
        },
        "id": "uihFnjWsLMl8",
        "outputId": "d0b39309-9b37-46ea-cd01-db5187c4b2bd"
      },
      "source": [
        "euclid_gcd_while(97,12)"
      ],
      "execution_count": null,
      "outputs": [
        {
          "output_type": "execute_result",
          "data": {
            "text/plain": [
              "1"
            ]
          },
          "metadata": {
            "tags": []
          },
          "execution_count": 53
        }
      ]
    },
    {
      "cell_type": "code",
      "metadata": {
        "id": "xIrEUjZOPEn_"
      },
      "source": [
        "def euclid_gcd_rem(m,n):\n",
        "  if m<n:\n",
        "    (m,n)=(n,m)\n",
        "  if (m%n)==0:\n",
        "    return (n)\n",
        "  else:\n",
        "    return(gcd(n,m%n))\n",
        "\n"
      ],
      "execution_count": null,
      "outputs": []
    },
    {
      "cell_type": "code",
      "metadata": {
        "colab": {
          "base_uri": "https://localhost:8080/"
        },
        "id": "gac2Dz7HPppJ",
        "outputId": "02ba602a-20b5-4833-fe95-af41a87dfb2b"
      },
      "source": [
        "euclid_gcd_rem(5,25)"
      ],
      "execution_count": null,
      "outputs": [
        {
          "output_type": "execute_result",
          "data": {
            "text/plain": [
              "5"
            ]
          },
          "metadata": {
            "tags": []
          },
          "execution_count": 57
        }
      ]
    },
    {
      "cell_type": "code",
      "metadata": {
        "id": "ssdaYzzkRC7C"
      },
      "source": [
        "def euclid_while_GCD(m,n):\n",
        "  if m<n:\n",
        "    (m,n)= (n,m)\n",
        "  while (m%n)!=0:\n",
        "    (m,n) = (n,m%n)\n",
        "  return (n)"
      ],
      "execution_count": null,
      "outputs": []
    },
    {
      "cell_type": "code",
      "metadata": {
        "colab": {
          "base_uri": "https://localhost:8080/"
        },
        "id": "yzxZFem8RfHf",
        "outputId": "17979f77-6da5-4bfd-c836-8d90807cf6b6"
      },
      "source": [
        "euclid_while_GCD(1,3)"
      ],
      "execution_count": null,
      "outputs": [
        {
          "output_type": "execute_result",
          "data": {
            "text/plain": [
              "1"
            ]
          },
          "metadata": {
            "tags": []
          },
          "execution_count": 62
        }
      ]
    }
  ]
}